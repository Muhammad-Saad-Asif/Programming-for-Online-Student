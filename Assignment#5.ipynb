{
 "cells": [
  {
   "cell_type": "code",
   "execution_count": 2,
   "metadata": {},
   "outputs": [
    {
     "name": "stdout",
     "output_type": "stream",
     "text": [
      "5\n",
      "The factorial of 5 is : 30\n"
     ]
    }
   ],
   "source": [
    "#*****************************Q1*************************\n",
    "def factorial(num):\n",
    "    fact = 1\n",
    "\n",
    "    for i in range(1,num+1): \n",
    "        fact = fact * i \n",
    "\n",
    "    print (\"The factorial of \"+str(num)+\" is : \"+str(fact))\n",
    "\n",
    "n = int(input())\n",
    "factorial(n)"
   ]
  },
  {
   "cell_type": "code",
   "execution_count": 3,
   "metadata": {},
   "outputs": [
    {
     "name": "stdout",
     "output_type": "stream",
     "text": [
      "Enter string:Count Upper and loWer\n",
      "The number of lowercase characters is:\n",
      "15\n",
      "The number of uppercase characters is:\n",
      "3\n"
     ]
    }
   ],
   "source": [
    "#*****************************Q2*************************\n",
    "def UpperLowerCount(string):\n",
    "    count1=0\n",
    "    count2=0\n",
    "    for i in string:\n",
    "        if(i.islower()):\n",
    "                count1=count1+1\n",
    "        elif(i.isupper()):\n",
    "                count2=count2+1\n",
    "    print(\"The number of lowercase characters is:\")\n",
    "    print(count1)\n",
    "    print(\"The number of uppercase characters is:\")\n",
    "    print(count2)\n",
    "    \n",
    "string=input(\"Enter string:\")    \n",
    "UpperLowerCount(string)"
   ]
  },
  {
   "cell_type": "code",
   "execution_count": 4,
   "metadata": {},
   "outputs": [
    {
     "name": "stdout",
     "output_type": "stream",
     "text": [
      "2 6 2 "
     ]
    }
   ],
   "source": [
    "#*****************************Q3*************************\n",
    "def evennum(num):\n",
    "    for n in num:  \n",
    "        if(n % 2 == 0): \n",
    "            print(n, end = \" \")\n",
    "numbers = [2,1,5,3,6,2,7,1]\n",
    "evennum(numbers)"
   ]
  },
  {
   "cell_type": "code",
   "execution_count": 5,
   "metadata": {},
   "outputs": [
    {
     "name": "stdout",
     "output_type": "stream",
     "text": [
      "qwert\n",
      "No\n"
     ]
    }
   ],
   "source": [
    "#*****************************Q4*************************\n",
    "def checkpalindrome(word):\n",
    "    rev = ''.join(reversed(word)) \n",
    "    if (word == rev): \n",
    "        print(\"Yes\")\n",
    "    else:\n",
    "        print(\"No\")\n",
    "a = input()\n",
    "checkpalindrome(a)"
   ]
  },
  {
   "cell_type": "code",
   "execution_count": 6,
   "metadata": {},
   "outputs": [
    {
     "name": "stdout",
     "output_type": "stream",
     "text": [
      "5 is a prime number\n"
     ]
    }
   ],
   "source": [
    "#*****************************Q5*************************\n",
    "def isPrime(num):\n",
    "    if num > 1: \n",
    "        for i in range(2, num//2):\n",
    "            if (num % i) == 0: \n",
    "                print(num, \"is not a prime number\") \n",
    "                break\n",
    "        else: \n",
    "            print(num, \"is a prime number\") \n",
    "    else: \n",
    "        print(num, \"is not a prime number\") \n",
    "isPrime(5)"
   ]
  },
  {
   "cell_type": "code",
   "execution_count": 8,
   "metadata": {},
   "outputs": [
    {
     "name": "stdout",
     "output_type": "stream",
     "text": [
      "Enter Items q,w,e,r,t\n"
     ]
    },
    {
     "data": {
      "text/plain": [
       "[[['q,w,e,r,t']]]"
      ]
     },
     "execution_count": 8,
     "metadata": {},
     "output_type": "execute_result"
    }
   ],
   "source": [
    "def itemlist(*items):\n",
    "    item = []\n",
    "    for i in items:\n",
    "        item.append(i)\n",
    "    return(item)\n",
    "\n",
    "item =[input(\"Enter Items \").split()]\n",
    "itemlist(item)"
   ]
  },
  {
   "cell_type": "code",
   "execution_count": null,
   "metadata": {},
   "outputs": [],
   "source": []
  }
 ],
 "metadata": {
  "kernelspec": {
   "display_name": "Python 3",
   "language": "python",
   "name": "python3"
  },
  "language_info": {
   "codemirror_mode": {
    "name": "ipython",
    "version": 3
   },
   "file_extension": ".py",
   "mimetype": "text/x-python",
   "name": "python",
   "nbconvert_exporter": "python",
   "pygments_lexer": "ipython3",
   "version": "3.7.4"
  }
 },
 "nbformat": 4,
 "nbformat_minor": 2
}
