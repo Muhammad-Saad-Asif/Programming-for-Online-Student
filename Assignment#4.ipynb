{
 "cells": [
  {
   "cell_type": "code",
   "execution_count": 40,
   "metadata": {},
   "outputs": [
    {
     "ename": "SyntaxError",
     "evalue": "invalid syntax (<ipython-input-40-71aeb22445a6>, line 13)",
     "output_type": "error",
     "traceback": [
      "\u001b[1;36m  File \u001b[1;32m\"<ipython-input-40-71aeb22445a6>\"\u001b[1;36m, line \u001b[1;32m13\u001b[0m\n\u001b[1;33m    Person[('family':0)]\u001b[0m\n\u001b[1;37m                    ^\u001b[0m\n\u001b[1;31mSyntaxError\u001b[0m\u001b[1;31m:\u001b[0m invalid syntax\n"
     ]
    }
   ],
   "source": [
    "Person={\n",
    "    'fname':'Saad',\n",
    "    'lname':'Asif',\n",
    "    'age':'23',\n",
    "    'city':'Karachi'\n",
    "}\n",
    "\n",
    "print(Person['fname'])\n",
    "print(Person['lname'])\n",
    "print(Person['age'])\n",
    "print(Person['city'])\n",
    "\n",
    "Person[('family':0)]"
   ]
  },
  {
   "cell_type": "code",
   "execution_count": 25,
   "metadata": {},
   "outputs": [
    {
     "name": "stdout",
     "output_type": "stream",
     "text": [
      "('Karachi', 'New York', 'Hong Kong')\n"
     ]
    },
    {
     "data": {
      "text/plain": [
       "[{'name': 'Karachi',\n",
       "  'population': '15 million',\n",
       "  'fact': ' Hong Kong has the most skyscrapers (classified as building with more than 14 floors) in the world.',\n",
       "  'country': 'china'},\n",
       " {'name': 'New York',\n",
       "  'population': '19.49 million',\n",
       "  'fact': 'The United Nations headquarters was established in New York City in 1952 after World War II.',\n",
       "  'country': 'United States of America'},\n",
       " {'name': 'Hong Kong',\n",
       "  'population': '7.44 million',\n",
       "  'fact': 'It is the cultural, economic, philanthropic, educational, and political hub of the country.',\n",
       "  'country': 'china'}]"
      ]
     },
     "execution_count": 25,
     "metadata": {},
     "output_type": "execute_result"
    }
   ],
   "source": [
    "#*********************Q2*********************\n",
    "cities=[\n",
    "    {\n",
    "        'name':'Karachi',\n",
    "        'population':'15 million',\n",
    "        'fact':' Hong Kong has the most skyscrapers (classified as building with more than 14 floors) in the world.',\n",
    "        'country':\"china\"\n",
    "    },\n",
    "    {\n",
    "        'name':'New York',\n",
    "        'population':'19.49 million',\n",
    "        'fact':'The United Nations headquarters was established in New York City in 1952 after World War II.',\n",
    "        'country':\"United States of America\"\n",
    "    },\n",
    "    {\n",
    "        'name':'Hong Kong',\n",
    "        'population':'7.44 million',\n",
    "        'fact':'It is the cultural, economic, philanthropic, educational, and political hub of the country.',\n",
    "        'country':\"china\"\n",
    "    }\n",
    "    \n",
    "    \n",
    "    \n",
    "]\n",
    "\n",
    "cities_name=(cities[0]['name'],cities[1]['name'],cities[2]['name'])\n",
    "print(cities_name)\n",
    "\n",
    "cities\n"
   ]
  },
  {
   "cell_type": "code",
   "execution_count": 15,
   "metadata": {},
   "outputs": [
    {
     "name": "stdout",
     "output_type": "stream",
     "text": [
      "Enter The Age : 3\n",
      "Ticket Is Free of Cost!!!\n",
      "\n",
      "Enter The Age : 8\n",
      "Ticket Price is $10\n",
      "\n",
      "Enter The Age : 30\n",
      "Ticket Price is $15\n"
     ]
    }
   ],
   "source": [
    "#*********************Q3*********************\n",
    "for i in range(3):\n",
    "    age=int(input(\"Enter The Age : \"))\n",
    "    if age <=3:\n",
    "        print(\"Ticket Is Free of Cost!!!\\n\")\n",
    "    elif age >3 and age < 12:\n",
    "        print(\"Ticket Price is $10\\n\")\n",
    "    elif age >12:\n",
    "        print(\"Ticket Price is $15\")        "
   ]
  },
  {
   "cell_type": "code",
   "execution_count": 5,
   "metadata": {},
   "outputs": [
    {
     "name": "stdout",
     "output_type": "stream",
     "text": [
      "One of my favorite books is Alice in Wonderland.The title Of Book Is :\"Through the Looking Glass\"\n"
     ]
    }
   ],
   "source": [
    "#*********************Q4*********************\n",
    "\n",
    "def favorite_book(title):\n",
    "    print(\"One of my favorite books is Alice in Wonderland.The title Of Book Is :\"+title)\n",
    "    \n",
    "    \n",
    "\n",
    "favorite_book(\"\\\"Through the Looking Glass\\\"\")    \n",
    "    \n",
    "    "
   ]
  },
  {
   "cell_type": "code",
   "execution_count": 9,
   "metadata": {},
   "outputs": [
    {
     "name": "stdout",
     "output_type": "stream",
     "text": [
      "Enter the number From 1 to 30. Remaining input are 3:65\n",
      "You Inputed the Invalid Number\n",
      "Enter the number From 1 to 30. Remaining input are 2:5\n",
      "You Inputed A Smallest Number from Hidden Number\n",
      "Enter the number From 1 to 30. Remaining input are 1:23\n",
      "You win!!!\n",
      "Better Luck Next Time\n"
     ]
    }
   ],
   "source": [
    "#*********************Q5*********************\n",
    "from random import randint\n",
    "var=3\n",
    "rng=3\n",
    "for i in range(rng):\n",
    "  \n",
    "    luck=int(input(\"Enter the number From 1 to 30. Remaining input are \"+str(var)+\":\"))\n",
    "    r=randint(1,30)\n",
    "    if luck >=1 and luck <=30:\n",
    "        if luck == r:\n",
    "            print(\"You win!!!\")\n",
    "        else:\n",
    "            if luck > r:\n",
    "                print(\"You Inputed A Greater Number from Hidden Number\")\n",
    "            else:\n",
    "                print(\"You Inputed A Smallest Number from Hidden Number\")\n",
    "    else:\n",
    "        print(\"You Inputed the Invalid Number\")\n",
    "        \n",
    "    var-=1\n",
    "else:\n",
    "    print(\"Better Luck Next Time\")"
   ]
  },
  {
   "cell_type": "code",
   "execution_count": null,
   "metadata": {},
   "outputs": [],
   "source": []
  },
  {
   "cell_type": "code",
   "execution_count": null,
   "metadata": {},
   "outputs": [],
   "source": []
  }
 ],
 "metadata": {
  "kernelspec": {
   "display_name": "Python 3",
   "language": "python",
   "name": "python3"
  },
  "language_info": {
   "codemirror_mode": {
    "name": "ipython",
    "version": 3
   },
   "file_extension": ".py",
   "mimetype": "text/x-python",
   "name": "python",
   "nbconvert_exporter": "python",
   "pygments_lexer": "ipython3",
   "version": "3.7.4"
  }
 },
 "nbformat": 4,
 "nbformat_minor": 2
}
