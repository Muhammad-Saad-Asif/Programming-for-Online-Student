{
 "cells": [
  {
   "cell_type": "code",
   "execution_count": 9,
   "metadata": {},
   "outputs": [
    {
     "name": "stdout",
     "output_type": "stream",
     "text": [
      "Car is moving forward/backward\n",
      "Car is turning\n",
      "car is being stopped\n",
      "Car is moving forward/backward\n",
      "Car is turning\n",
      "car is being stopped\n"
     ]
    }
   ],
   "source": [
    "class car:\n",
    "    def drive(self):\n",
    "        print(\"Car is moving forward/backward\")\n",
    "    def turn(self):\n",
    "        print(\"Car is turning\")\n",
    "    def brake(self):\n",
    "        print(\"car is being stopped\")\n",
    "\n",
    "honda = car()\n",
    "toyota = car()\n",
    "audi = car()\n",
    "ford = car()\n",
    "suzuki = car()\n",
    "\n",
    "honda.drive()\n",
    "toyota.turn()\n",
    "ford.brake()\n",
    "suzuki.drive()\n",
    "suzuki.turn()\n",
    "suzuki.brake()"
   ]
  },
  {
   "cell_type": "code",
   "execution_count": null,
   "metadata": {},
   "outputs": [],
   "source": []
  }
 ],
 "metadata": {
  "kernelspec": {
   "display_name": "Python 3",
   "language": "python",
   "name": "python3"
  },
  "language_info": {
   "codemirror_mode": {
    "name": "ipython",
    "version": 3
   },
   "file_extension": ".py",
   "mimetype": "text/x-python",
   "name": "python",
   "nbconvert_exporter": "python",
   "pygments_lexer": "ipython3",
   "version": "3.7.4"
  }
 },
 "nbformat": 4,
 "nbformat_minor": 2
}
