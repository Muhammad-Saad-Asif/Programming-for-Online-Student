{
 "cells": [
  {
   "cell_type": "code",
   "execution_count": 1,
   "metadata": {},
   "outputs": [
    {
     "name": "stdout",
     "output_type": "stream",
     "text": [
      "Enter First Number: 5\n",
      "Enter Second Number: 6\n",
      "Enter Operator: *\n",
      "30\n"
     ]
    }
   ],
   "source": [
    "# *****************Q1*****************\n",
    "a=int(input(\"Enter First Number: \"))\n",
    "b=int(input(\"Enter Second Number: \"))\n",
    "op=input(\"Enter Operator: \")\n",
    "if op == '+':\n",
    "    print(a+b)\n",
    "elif op == '*':\n",
    "    print(a*b)\n",
    "elif op == '/':\n",
    "    print(a/b)\n",
    "elif op == '-':\n",
    "    print(a-b)\n",
    "elif op == '**':\n",
    "    print(a**b)    \n",
    "    \n",
    "else:\n",
    "    print(\"Invalid Operator\")"
   ]
  },
  {
   "cell_type": "code",
   "execution_count": 2,
   "metadata": {},
   "outputs": [
    {
     "name": "stdout",
     "output_type": "stream",
     "text": [
      "25  is Numeric Value Exists in Your List\n",
      "60  is Numeric Value Exists in Your List\n",
      "50  is Numeric Value Exists in Your List\n"
     ]
    }
   ],
   "source": [
    "# *****************Q2*****************\n",
    "List1=['Umer',25,'jhon','karachi',60,50]\n",
    "\n",
    "for q in List1: \n",
    "    if type(q)==int: \n",
    "        print(q,\" is Numeric Value Exists in Your List\")"
   ]
  },
  {
   "cell_type": "code",
   "execution_count": 2,
   "metadata": {},
   "outputs": [
    {
     "name": "stdout",
     "output_type": "stream",
     "text": [
      "{'Fname': 'John', 'Lname': 'cena', 'Date': '19-1-2000', 'purchase': 'Rice', 'email': 'python123@gmail.com'}\n"
     ]
    }
   ],
   "source": [
    "# *****************Q3*****************\n",
    "Customers={\n",
    "    \"Fname\":\"John\",\n",
    "    \"Lname\":\"cena\",\n",
    "    \"Date\":\"19-1-2000\",\n",
    "    \"purchase\":\"Rice\"\n",
    "}\n",
    "Customers['email']='python123@gmail.com'\n",
    "print(Customers)\n"
   ]
  },
  {
   "cell_type": "code",
   "execution_count": 4,
   "metadata": {},
   "outputs": [
    {
     "name": "stdout",
     "output_type": "stream",
     "text": [
      "135\n"
     ]
    }
   ],
   "source": [
    "# *****************Q4*****************\n",
    "sum=0\n",
    "for q in List1:\n",
    "    if type(q)==int:\n",
    "        sum=sum+q\n",
    "       \n",
    "        \n",
    "print(sum)"
   ]
  },
  {
   "cell_type": "code",
   "execution_count": 5,
   "metadata": {},
   "outputs": [
    {
     "name": "stdout",
     "output_type": "stream",
     "text": [
      "['Umer', 50, 'jhon']\n"
     ]
    }
   ],
   "source": [
    "# *****************Q5*****************\n",
    "List2=['Umer','Umer',25,'jhon','karachi',60,50,50,'jhon']\n",
    "List3=[]\n",
    "List4=[]\n",
    "\n",
    "for w in List2:\n",
    "    if w not in List3:\n",
    "        List3.append(w)\n",
    "        \n",
    "    else:   \n",
    "        List4.append(w)\n",
    "print(List4)"
   ]
  },
  {
   "cell_type": "code",
   "execution_count": null,
   "metadata": {},
   "outputs": [
    {
     "name": "stdout",
     "output_type": "stream",
     "text": [
      "Enter key to check :Lname\n",
      "Lname not exists\n"
     ]
    }
   ],
   "source": [
    "# *****************Q6*****************\n",
    "\n",
    "for k in Customers.keys():\n",
    "    r=input(\"Enter key to check :\")\n",
    "    if k==r:\n",
    "        print(r,\"is exists\")\n",
    "        \n",
    "    else:\n",
    "        print(r,\"not exists\")\n",
    "    \n",
    " "
   ]
  },
  {
   "cell_type": "code",
   "execution_count": null,
   "metadata": {},
   "outputs": [],
   "source": []
  }
 ],
 "metadata": {
  "kernelspec": {
   "display_name": "Python 3",
   "language": "python",
   "name": "python3"
  }
 },
 "nbformat": 4,
 "nbformat_minor": 2
}
