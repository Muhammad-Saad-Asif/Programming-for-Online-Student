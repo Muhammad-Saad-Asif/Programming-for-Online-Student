{
 "cells": [
  {
   "cell_type": "code",
   "execution_count": 4,
   "metadata": {},
   "outputs": [
    {
     "name": "stdout",
     "output_type": "stream",
     "text": [
      "     Twinkle, twinkle, little star,     \n",
      "            How I wonder what you are!            \n",
      "                Up above the world so high,                 \n",
      "                Like a diamond in the sky,                \n",
      "     Twinkle, twinkle, little star,     \n",
      "            How I wonder what you are!            \n"
     ]
    }
   ],
   "source": [
    "# ************************Q1***************\n",
    "\n",
    "print(\"Twinkle, twinkle, little star,\".center(40))\n",
    "print(\"How I wonder what you are!\".center(50))\n",
    "print(\"Up above the world so high,\".center(60))\n",
    "print(\"Like a diamond in the sky,\".center(58))\n",
    "print(\"Twinkle, twinkle, little star,\".center(40))\n",
    "print(\"How I wonder what you are!\".center(50))"
   ]
  },
  {
   "cell_type": "code",
   "execution_count": 7,
   "metadata": {},
   "outputs": [
    {
     "name": "stdout",
     "output_type": "stream",
     "text": [
      "3.7.4\n"
     ]
    }
   ],
   "source": [
    "# ************************Q2***************\n",
    "import platform\n",
    "print(platform.python_version())"
   ]
  },
  {
   "cell_type": "code",
   "execution_count": 8,
   "metadata": {},
   "outputs": [
    {
     "name": "stdout",
     "output_type": "stream",
     "text": [
      "2019-11-28 12:48:57.038438\n"
     ]
    }
   ],
   "source": [
    "# ************************Q3***************\n",
    "import datetime\n",
    "print(datetime.datetime.now())"
   ]
  },
  {
   "cell_type": "code",
   "execution_count": 10,
   "metadata": {},
   "outputs": [
    {
     "name": "stdout",
     "output_type": "stream",
     "text": [
      "Enter the radius of Circle : 5.2\n",
      "Area Of Circle is84.94866535306801\n"
     ]
    }
   ],
   "source": [
    "# ************************Q4***************\n",
    "from math import pi\n",
    "\n",
    "r=float(input(\"Enter the radius of Circle : \"))\n",
    "ans=pi*r**2\n",
    "print(\"Area Of Circle is\"+str(ans))"
   ]
  },
  {
   "cell_type": "code",
   "execution_count": 3,
   "metadata": {},
   "outputs": [
    {
     "name": "stdout",
     "output_type": "stream",
     "text": [
      "Enter First Name : saad\n",
      "Enter Last Name : asif\n",
      "saad asif\n"
     ]
    }
   ],
   "source": [
    "# ************************Q5***************\n",
    "f=input(\"Enter First Name : \")\n",
    "l=input(\"Enter Last Name : \")\n",
    "print(f+' '+l)"
   ]
  },
  {
   "cell_type": "code",
   "execution_count": 2,
   "metadata": {},
   "outputs": [
    {
     "name": "stdout",
     "output_type": "stream",
     "text": [
      "Enter First Num : 7\n",
      "Enter Last Num : 120\n",
      "127\n"
     ]
    }
   ],
   "source": [
    "# ************************Q6***************\n",
    "a=int(input(\"Enter First Num : \"))\n",
    "b=int(input(\"Enter Last Num : \"))\n",
    "print(a+b)\n"
   ]
  },
  {
   "cell_type": "code",
   "execution_count": null,
   "metadata": {},
   "outputs": [],
   "source": []
  },
  {
   "cell_type": "code",
   "execution_count": null,
   "metadata": {},
   "outputs": [],
   "source": []
  }
 ],
 "metadata": {
  "kernelspec": {
   "display_name": "Python 3",
   "language": "python",
   "name": "python3"
  },
  "language_info": {
   "codemirror_mode": {
    "name": "ipython",
    "version": 3
   },
   "file_extension": ".py",
   "mimetype": "text/x-python",
   "name": "python",
   "nbconvert_exporter": "python",
   "pygments_lexer": "ipython3",
   "version": "3.7.4"
  }
 },
 "nbformat": 4,
 "nbformat_minor": 2
}
